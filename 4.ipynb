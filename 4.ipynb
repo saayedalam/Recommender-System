{
 "cells": [
  {
   "attachments": {},
   "cell_type": "markdown",
   "metadata": {},
   "source": [
    "### Saayed Alam\n",
    "#### Research Discussion Assignment 3\n",
    "\n",
    "##### Mitigating the Harm of Recommender Systems\n",
    "\n",
    "**Read one or more of the articles below and consider how to counter the radicalizing effects of recommender systems or ways to prevent algorithmic discrimination.**\n",
    "\n",
    "[UP NEXT: A BETTER RECOMMENDATION SYSTEM](https://www.wired.com/story/creating-ethical-recommendation-engines/)\n",
    "\n",
    "*Growing up, our parents would do everything to avoid us from falling in with a bad crowd. It usually starts small but there is always a tell-tell sign. Maybe cutting a class here and there but if not cared for and looked after, one could become a high school dropout. When we surf online, we do not have that sort of supervision. At least not when it comes to the recommendation engine. Adult content can be blocked by parents but what happens when one YouTube video leads to another and before you know, your child's perception of the world is being shaped by some conspiracy theorist.*\n",
    "\n",
    "*The wired articles mentions several steps an organization can take to avoid such radicalization. Google, for instance, redirects users who show interests in radicalizing videos to content intended to de-radicalize them. Twitter offers an option to filter low-quality accounts. The article also advises smaller companies to create a visible list of “Do Not Amplify” topics. And have indicators in their recommendation engine such as \"are bots involved?\" to circumvent radicalization.*\n",
    "\n",
    "*Nevertheless, the main priority for a company is to make a profit and sometimes the steps above slows down the growth. However, I am positive with time we will be able to build a better recommendation system that does not discriminate or radicalize users.*"
   ]
  }
 ],
 "metadata": {
  "kernelspec": {
   "display_name": "Python 3",
   "language": "python",
   "name": "python3"
  },
  "language_info": {
   "codemirror_mode": {
    "name": "ipython",
    "version": 3
   },
   "file_extension": ".py",
   "mimetype": "text/x-python",
   "name": "python",
   "nbconvert_exporter": "python",
   "pygments_lexer": "ipython3",
   "version": "3.6.3"
  }
 },
 "nbformat": 4,
 "nbformat_minor": 2
}

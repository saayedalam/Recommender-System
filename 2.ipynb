{
 "cells": [
  {
   "cell_type": "markdown",
   "metadata": {},
   "source": [
    "## Saayed Alam\n",
    "### Research Discussion Assignment 2\n",
    "\n",
    "**For this discussion item, please [watch](https://www.youtube.com/watch?v=3LBgiFch4_g) the following talk and summarize what you found to be the most important or interesting points. The first half will cover some of the mathematical techniques covered in this unit's reading and the second half some of the data management challenges in an industrial-scale recommendation system.**\n",
    "\n",
    "*Christopher Johnson was a machine learning manager at Spotify. He has doctorate on machine learning and experience working with big data distributed systems such as Hadoop and Spark. In the keynote above, Christopher talks about how Spotify recommends their 40 millions song to their users through various means such as personalized playlist, personalized radios and etc. He continues by comparing the services Spotify's competitors provide and argues their recommendation scales and performs better.*\n",
    "\n",
    "*He explains how their recommendation engine works by utilizing collaborating filtering method based on implicit matrix factorization. Instead of explicit ratings, Spotify uses binary labels for streamed or not streamed to rate their songs and minimize the weighted RMSE using a function of total streams as weight. One of the way to solve this problem is by using alternating least squared method.*\n",
    "\n",
    "*Next he explains how implicit matrix factorization works with large scale dataset with Hadoop. He briefly talks about how Hadoop works by building blocks and making computation more efficient by working with certain number of blocks at a time. However, he argues Spark is better at this task than Hadoop because Spark loads data in to memory for faster computation whereas Hadoop loads data in to hard drive which increases retrieval time. He goes in to details and presents different ways to work with Spark. The best method and the one Spotify uses is called half gridify because it requires least memory and time.*"
   ]
  }
 ],
 "metadata": {
  "kernelspec": {
   "display_name": "Python 3",
   "language": "python",
   "name": "python3"
  },
  "language_info": {
   "codemirror_mode": {
    "name": "ipython",
    "version": 3
   },
   "file_extension": ".py",
   "mimetype": "text/x-python",
   "name": "python",
   "nbconvert_exporter": "python",
   "pygments_lexer": "ipython3",
   "version": "3.6.3"
  }
 },
 "nbformat": 4,
 "nbformat_minor": 2
}

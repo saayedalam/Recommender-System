{
 "cells": [
  {
   "cell_type": "markdown",
   "metadata": {},
   "source": [
    "## Saayed Alam\n",
    "### Research Discussion Assignment 3\n",
    "\n",
    "**As more systems and sectors are driven by predictive analytics, there is increasing awareness of the possibility and pitfalls of algorithmic discrimination. In what ways do you think Recommender Systems reinforce human bias? Reflecting on the techniques we have covered, do you think recommender systems reinforce or help to prevent unethical targeting or customer segmentation?  Please provide one or more examples to support your arguments.**\n",
    "\n",
    "*I worked at a chargeback insurance company called preCharge risk management. The company guaranteed an online transaction and issued a fund of the same value if the payment was fraudulent. I was one of the employees who verified these transactions. The mechanism behind it was simple. Find a match of the buyer on social networks, white pages, google search and etc. The company believed someone making the online purchase must have an online presence and if they are not fraud their information would match. The company was very profitable.*\n",
    "\n",
    "*In this service, the company recommended buyers who are not fraudulent. In my opinion, this system would reinforce human bias by mislabeling transactions. A lot of users have no social network profiles (myself included) and even if they had, its usually anonymous. A recommender system would mislabel those users as fraudulent. More often than not, we misjudge people based on their appearance and the same the phenomenon happens online.*\n",
    "\n",
    "*Reflecting on the techniques we have covered, I think recommender systems reinforce unethical targeting or customer segmentation. Based on what I have learned so far, any good programmer can hardcode a user-item matrix to recommend items of their liking. A good example of such unethical activities that is prevalent on twitter and facebook - fake news. Fake news take stem from unethical recommender system. Here is a good [article](https://medium.com/the-graph/fake-news-and-rabbit-holes-radicalization-via-the-recommendation-engine-544f99337c55) on \"radicalization via the recommendation engine\".* "
   ]
  }
 ],
 "metadata": {
  "kernelspec": {
   "display_name": "Python 3",
   "language": "python",
   "name": "python3"
  },
  "language_info": {
   "codemirror_mode": {
    "name": "ipython",
    "version": 3
   },
   "file_extension": ".py",
   "mimetype": "text/x-python",
   "name": "python",
   "nbconvert_exporter": "python",
   "pygments_lexer": "ipython3",
   "version": "3.6.3"
  }
 },
 "nbformat": 4,
 "nbformat_minor": 2
}
